{
 "cells": [
  {
   "cell_type": "code",
   "execution_count": null,
   "metadata": {},
   "outputs": [],
   "source": [
    "import numpy as np\n",
    "import matplotlib.pyplot as plt\n",
    "\n",
    "%matplotlib inline"
   ]
  },
  {
   "cell_type": "code",
   "execution_count": null,
   "metadata": {},
   "outputs": [],
   "source": [
    "def find_closest_centroids(X, centroids):\n",
    "    K = centroids.shape[0]\n",
    "    idx = np.zeros(X.shape[0], dtype=int)\n",
    "    for i in range(X.shape[0]):\n",
    "        distance=[];\n",
    "        for j in range(K):\n",
    "            norm_ij=np.linalg.norm(X[i]-centroids[j])\n",
    "            distance.append(norm_ij);\n",
    "        idx[i]=np.argmin(distance);\n",
    "    return idx"
   ]
  },
  {
   "cell_type": "code",
   "execution_count": null,
   "metadata": {},
   "outputs": [],
   "source": [
    "def compute_centroids(X, idx, K):\n",
    "\n",
    "    m, n = X.shape\n",
    "\n",
    "    centroids = np.zeros((K, n))\n",
    "\n",
    "    for j in range(K):\n",
    "        points=X[idx==j];\n",
    "        centroids[j]=np.mean(points,axis=0);\n",
    "\n",
    "    return centroids\n"
   ]
  },
  {
   "cell_type": "code",
   "execution_count": null,
   "metadata": {},
   "outputs": [],
   "source": [
    "def run_kMeans(X, initial_centroids, max_iters, plot_progress=False):\n",
    "    m, n = X.shape\n",
    "    K = initial_centroids.shape[0]\n",
    "    centroids = initial_centroids\n",
    "    previous_centroids = centroids    \n",
    "    idx = np.zeros(m)\n",
    "    plt.figure(figsize=(8, 6))\n",
    "    for i in range(max_iters):\n",
    "        print(\"K-Means iteration %d/%d\" % (i, max_iters-1))\n",
    "        idx = find_closest_centroids(X, centroids)\n",
    "        if plot_progress:\n",
    "            plot_progress_kMeans(X, centroids, previous_centroids, idx, K, i)\n",
    "            previous_centroids = centroids\n",
    "        centroids = compute_centroids(X, idx, K)\n",
    "    plt.show() \n",
    "    return centroids, idx"
   ]
  },
  {
   "cell_type": "code",
   "execution_count": null,
   "metadata": {},
   "outputs": [],
   "source": [
    "def kMeans_init_centroids(X, K):\n",
    "    randidx = np.random.permutation(X.shape[0])\n",
    "    \n",
    "    centroids = X[randidx[:K]]\n",
    "    \n",
    "    return centroids"
   ]
  },
  {
   "cell_type": "code",
   "execution_count": null,
   "metadata": {},
   "outputs": [],
   "source": [
    "#please provide image in jpeg format in place of imglink below\n",
    "original_img = plt.imread('imglink')"
   ]
  },
  {
   "cell_type": "code",
   "execution_count": null,
   "metadata": {},
   "outputs": [],
   "source": [
    "\n",
    "original_img = original_img / 255\n",
    "\n",
    "X_img = np.reshape(original_img, (original_img.shape[0] * original_img.shape[1], 3))"
   ]
  },
  {
   "cell_type": "code",
   "execution_count": null,
   "metadata": {},
   "outputs": [],
   "source": [
    "#please provide numColor and numIters\n",
    "numColor=16\n",
    "numIters=10\n",
    "K = numColor\n",
    "max_iters = numIters\n",
    "\n",
    "initial_centroids = kMeans_init_centroids(X_img, K)\n",
    "centroids, idx = run_kMeans(X_img, initial_centroids, max_iters)"
   ]
  },
  {
   "cell_type": "code",
   "execution_count": null,
   "metadata": {},
   "outputs": [],
   "source": [
    "\n",
    "idx = find_closest_centroids(X_img, centroids)\n",
    "X_recovered = centroids[idx, :] \n",
    "X_recovered = np.reshape(X_recovered, original_img.shape) "
   ]
  },
  {
   "cell_type": "code",
   "execution_count": null,
   "metadata": {},
   "outputs": [],
   "source": [
    "fig, ax = plt.subplots(1, figsize=(16,16))\n",
    "plt.axis('off')\n",
    "ax.imshow(original_img)\n",
    "ax.set_axis_off()"
   ]
  },
  {
   "cell_type": "code",
   "execution_count": null,
   "metadata": {},
   "outputs": [],
   "source": [
    "fig, ax = plt.subplots(1, figsize=(16,16))\n",
    "plt.axis('off')\n",
    "ax.imshow(X_recovered)\n",
    "ax.set_axis_off()"
   ]
  }
 ],
 "metadata": {
  "kernelspec": {
   "display_name": "Python 3",
   "language": "python",
   "name": "python3"
  },
  "language_info": {
   "codemirror_mode": {
    "name": "ipython",
    "version": 3
   },
   "file_extension": ".py",
   "mimetype": "text/x-python",
   "name": "python",
   "nbconvert_exporter": "python",
   "pygments_lexer": "ipython3",
   "version": "3.10.6"
  },
  "orig_nbformat": 4
 },
 "nbformat": 4,
 "nbformat_minor": 2
}
